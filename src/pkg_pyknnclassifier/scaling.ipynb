{
 "cells": [
  {
   "cell_type": "code",
   "execution_count": null,
   "metadata": {},
   "outputs": [],
   "source": [
    "from sklearn.preprocessing import MinMaxScaler, StandardScaler\n",
    "from sklearn.impute import SimpleImputer\n",
    "import pandas as pd\n",
    "\n",
    "def scaling(df, impute_strategy, scale_method):\n",
    "    \"\"\" Apply imputation and scaling to the given data.\n",
    "\n",
    "    Parameters\n",
    "    ----------    \n",
    "    df: pd.DataFrame \n",
    "        The DataFrame to be preprocessed.\n",
    "        \n",
    "    impute_strategy: str\n",
    "        The strategy for imputation, 'mean', 'median', 'most_frequent', or 'constant'.\n",
    "        \n",
    "    scale_method: str\n",
    "        The scaling method, either 'StandardScaler' or 'MinMaxScaler'.\n",
    "        \n",
    "    Returns\n",
    "    ---------- \n",
    "    pd.DataFrame\n",
    "        The scaled DataFrame.\n",
    "\n",
    "    Examples\n",
    "    --------\n",
    "    >>> df_scaled = scaling(df, impute_strategy='mean', scale_method='MinMaxScaler')\n",
    "    \"\"\"\n",
    "    \n",
    "    # Impute missing values\n",
    "    imputer = SimpleImputer(strategy=impute_strategy)\n",
    "    df_imputed = pd.DataFrame(imputer.fit_transform(df), columns=df.columns)\n",
    "\n",
    "    # Scale data\n",
    "    if scale_method == 'StandardScaler':\n",
    "        scaler = StandardScaler()\n",
    "    elif scale_method == 'MinMaxScaler':\n",
    "        scaler = MinMaxScaler()\n",
    "    else:\n",
    "        raise ValueError(\"scale_method must be 'StandardScaler' or 'MinMaxScaler'.\")\n",
    "\n",
    "    # Apply scaling\n",
    "    df_scaled = pd.DataFrame(scaler.fit_transform(df_imputed), columns=df.columns)\n",
    "\n",
    "    return df_scaled\n"
   ]
  }
 ],
 "metadata": {
  "language_info": {
   "name": "python"
  },
  "orig_nbformat": 4
 },
 "nbformat": 4,
 "nbformat_minor": 2
}

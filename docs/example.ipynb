{
    "cells": [
        {
            "cell_type": "markdown",
            "metadata": {},
            "source": [
                "# Example usage\n",
                "\n",
                "To use `pkg_pyknnclassifier` in a project:"
            ]
        },
        {
            "cell_type": "code",
            "execution_count": 8,
            "metadata": {},
            "outputs": [],
            "source": [
                "import pkg_pyknnclassifier\n",
                "import pandas as pd\n",
                "\n",
                "from pkg_pyknnclassifier.data_loading import data_loading\n",
                "from pkg_pyknnclassifier.scaling import scaling\n",
                "from pkg_pyknnclassifier.predict import predict\n",
                "from pkg_pyknnclassifier.evaluate import evaluate"
            ]
        },
        {
            "cell_type": "markdown",
            "metadata": {},
            "source": [
                "Check the version of our package."
            ]
        },
        {
            "cell_type": "code",
            "execution_count": 2,
            "metadata": {},
            "outputs": [
                {
                    "name": "stdout",
                    "output_type": "stream",
                    "text": [
                        "0.1.0\n"
                    ]
                }
            ],
            "source": [
                "print(pkg_pyknnclassifier.__version__)"
            ]
        },
        {
            "cell_type": "markdown",
            "metadata": {},
            "source": [
                "## Narrative\n",
                "\n",
                "\n",
                "We will now conduct an initial data wrangling to make our data ready for classification. Note our package was designed to only accept numerical features, and the binary target variable. If your data involves some categorical features, please convert them into a numerical format using appropriate encoding techniques before using our package.\n"
            ]
        },
        {
            "cell_type": "markdown",
            "metadata": {},
            "source": [
                "## Data-Loading\n",
                "\n",
                "For better interpretation, we used Iris dataset, which comprises 2 distinct categories (Iris _Setosa_ and Iris _Versicolor_), each with 50 samples, along with their corresponding features:\n",
                "\"SepalLengthCm\": length of the sepal in cm\n",
                "\"SepalWidthCm\": width of the sepal in cm\n",
                "\"PetalLengthCm\": length of the petal in cm\n",
                "\"PetalWidthCm\" width of the petal in cm\n",
                "\n",
                "The data showcases various species of the iris flower, serving as a prime example to demonstrate and evaluate the performance of our tailored k-Nearest Neighbors (kNN) model.\n",
                "\n",
                "We load the dataset using the data_loading() function, importing the 'Iris.csv' file and specifying the target column upon which the categorization is based.\n"
            ]
        },
        {
            "cell_type": "code",
            "execution_count": 3,
            "metadata": {},
            "outputs": [],
            "source": [
                "path_to_training = \"../data/iris_train.csv\"\n",
                "path_to_validation = \"../data/iris_valid.csv\"\n",
                "target_column = \"Species\"\n",
                "X_train, y_train = data_loading(path_to_training, target_column)"
            ]
        },
        {
            "cell_type": "markdown",
            "metadata": {},
            "source": [
                "To give a glance at our dataset:"
            ]
        },
        {
            "cell_type": "code",
            "execution_count": 4,
            "metadata": {},
            "outputs": [
                {
                    "data": {
                        "text/html": [
                            "<div>\n",
                            "<style scoped>\n",
                            "    .dataframe tbody tr th:only-of-type {\n",
                            "        vertical-align: middle;\n",
                            "    }\n",
                            "\n",
                            "    .dataframe tbody tr th {\n",
                            "        vertical-align: top;\n",
                            "    }\n",
                            "\n",
                            "    .dataframe thead th {\n",
                            "        text-align: right;\n",
                            "    }\n",
                            "</style>\n",
                            "<table border=\"1\" class=\"dataframe\">\n",
                            "  <thead>\n",
                            "    <tr style=\"text-align: right;\">\n",
                            "      <th></th>\n",
                            "      <th>SepalLengthCm</th>\n",
                            "      <th>SepalWidthCm</th>\n",
                            "      <th>PetalLengthCm</th>\n",
                            "      <th>PetalWidthCm</th>\n",
                            "    </tr>\n",
                            "  </thead>\n",
                            "  <tbody>\n",
                            "    <tr>\n",
                            "      <th>0</th>\n",
                            "      <td>4.8</td>\n",
                            "      <td>3.4</td>\n",
                            "      <td>1.6</td>\n",
                            "      <td>0.2</td>\n",
                            "    </tr>\n",
                            "    <tr>\n",
                            "      <th>1</th>\n",
                            "      <td>4.6</td>\n",
                            "      <td>3.2</td>\n",
                            "      <td>1.4</td>\n",
                            "      <td>0.2</td>\n",
                            "    </tr>\n",
                            "    <tr>\n",
                            "      <th>2</th>\n",
                            "      <td>7.7</td>\n",
                            "      <td>3.0</td>\n",
                            "      <td>6.1</td>\n",
                            "      <td>2.3</td>\n",
                            "    </tr>\n",
                            "    <tr>\n",
                            "      <th>3</th>\n",
                            "      <td>5.2</td>\n",
                            "      <td>3.4</td>\n",
                            "      <td>1.4</td>\n",
                            "      <td>0.2</td>\n",
                            "    </tr>\n",
                            "    <tr>\n",
                            "      <th>4</th>\n",
                            "      <td>6.8</td>\n",
                            "      <td>3.2</td>\n",
                            "      <td>5.9</td>\n",
                            "      <td>2.3</td>\n",
                            "    </tr>\n",
                            "  </tbody>\n",
                            "</table>\n",
                            "</div>"
                        ],
                        "text/plain": [
                            "   SepalLengthCm  SepalWidthCm  PetalLengthCm  PetalWidthCm\n",
                            "0            4.8           3.4            1.6           0.2\n",
                            "1            4.6           3.2            1.4           0.2\n",
                            "2            7.7           3.0            6.1           2.3\n",
                            "3            5.2           3.4            1.4           0.2\n",
                            "4            6.8           3.2            5.9           2.3"
                        ]
                    },
                    "execution_count": 4,
                    "metadata": {},
                    "output_type": "execute_result"
                }
            ],
            "source": [
                "X_train.head()"
            ]
        },
        {
            "cell_type": "markdown",
            "metadata": {},
            "source": [
                "\n",
                "We have excluded the \"id\" column, recognizing it as a unique identifier that could lead to overfitting if included. Since it does not offer any meaningful predictive value, it is appropriately removed from the feature set for our analysis.\n"
            ]
        },
        {
            "cell_type": "code",
            "execution_count": 5,
            "metadata": {},
            "outputs": [
                {
                    "name": "stdout",
                    "output_type": "stream",
                    "text": [
                        "{'Iris-setosa', 'Iris-virginica'}\n"
                    ]
                }
            ],
            "source": [
                "X_val, y_val = data_loading(path_to_validation, target_column)\n",
                "print(set(list(y_train)))"
            ]
        },
        {
            "cell_type": "markdown",
            "metadata": {},
            "source": [
                "## Scaling\n",
                "Before building our kNN model, we scale our features so no features dominate the distance calculations. The model can learn from all the features equally and leads to a better performing model. Here we used the 'MinMaxScaler'. 'StandardScaler' can be an alternative by filling it into scale_method parameter.\n",
                "\n",
                "In addition, in this dataset, we do not have any missing value, but you can specify the impute strategy if there is any missing value in your dataset.\n"
            ]
        },
        {
            "cell_type": "code",
            "execution_count": 6,
            "metadata": {},
            "outputs": [],
            "source": [
                "train_X_scaled = scaling(X_train, impute_strategy=\"mean\", scale_method=\"MinMaxScaler\")"
            ]
        },
        {
            "cell_type": "markdown",
            "metadata": {},
            "source": [
                "## Prediction\n",
                "The line below is to predict the labels of the unlabeled observations based on the similarity score from the Euclidean distance. "
            ]
        },
        {
            "cell_type": "code",
            "execution_count": 14,
            "metadata": {},
            "outputs": [
                {
                    "data": {
                        "text/html": [
                            "<div>\n",
                            "<style scoped>\n",
                            "    .dataframe tbody tr th:only-of-type {\n",
                            "        vertical-align: middle;\n",
                            "    }\n",
                            "\n",
                            "    .dataframe tbody tr th {\n",
                            "        vertical-align: top;\n",
                            "    }\n",
                            "\n",
                            "    .dataframe thead th {\n",
                            "        text-align: right;\n",
                            "    }\n",
                            "</style>\n",
                            "<table border=\"1\" class=\"dataframe\">\n",
                            "  <thead>\n",
                            "    <tr style=\"text-align: right;\">\n",
                            "      <th></th>\n",
                            "      <th>predictions</th>\n",
                            "      <th>values</th>\n",
                            "    </tr>\n",
                            "  </thead>\n",
                            "  <tbody>\n",
                            "    <tr>\n",
                            "      <th>0</th>\n",
                            "      <td>Iris-virginica</td>\n",
                            "      <td>Iris-virginica</td>\n",
                            "    </tr>\n",
                            "    <tr>\n",
                            "      <th>1</th>\n",
                            "      <td>Iris-virginica</td>\n",
                            "      <td>Iris-virginica</td>\n",
                            "    </tr>\n",
                            "    <tr>\n",
                            "      <th>2</th>\n",
                            "      <td>Iris-virginica</td>\n",
                            "      <td>Iris-virginica</td>\n",
                            "    </tr>\n",
                            "    <tr>\n",
                            "      <th>3</th>\n",
                            "      <td>Iris-setosa</td>\n",
                            "      <td>Iris-setosa</td>\n",
                            "    </tr>\n",
                            "    <tr>\n",
                            "      <th>4</th>\n",
                            "      <td>Iris-setosa</td>\n",
                            "      <td>Iris-setosa</td>\n",
                            "    </tr>\n",
                            "    <tr>\n",
                            "      <th>5</th>\n",
                            "      <td>Iris-setosa</td>\n",
                            "      <td>Iris-setosa</td>\n",
                            "    </tr>\n",
                            "    <tr>\n",
                            "      <th>6</th>\n",
                            "      <td>Iris-setosa</td>\n",
                            "      <td>Iris-setosa</td>\n",
                            "    </tr>\n",
                            "    <tr>\n",
                            "      <th>7</th>\n",
                            "      <td>Iris-virginica</td>\n",
                            "      <td>Iris-virginica</td>\n",
                            "    </tr>\n",
                            "    <tr>\n",
                            "      <th>8</th>\n",
                            "      <td>Iris-setosa</td>\n",
                            "      <td>Iris-setosa</td>\n",
                            "    </tr>\n",
                            "    <tr>\n",
                            "      <th>9</th>\n",
                            "      <td>Iris-setosa</td>\n",
                            "      <td>Iris-setosa</td>\n",
                            "    </tr>\n",
                            "    <tr>\n",
                            "      <th>10</th>\n",
                            "      <td>Iris-setosa</td>\n",
                            "      <td>Iris-setosa</td>\n",
                            "    </tr>\n",
                            "    <tr>\n",
                            "      <th>11</th>\n",
                            "      <td>Iris-setosa</td>\n",
                            "      <td>Iris-setosa</td>\n",
                            "    </tr>\n",
                            "    <tr>\n",
                            "      <th>12</th>\n",
                            "      <td>Iris-virginica</td>\n",
                            "      <td>Iris-virginica</td>\n",
                            "    </tr>\n",
                            "    <tr>\n",
                            "      <th>13</th>\n",
                            "      <td>Iris-setosa</td>\n",
                            "      <td>Iris-setosa</td>\n",
                            "    </tr>\n",
                            "    <tr>\n",
                            "      <th>14</th>\n",
                            "      <td>Iris-virginica</td>\n",
                            "      <td>Iris-virginica</td>\n",
                            "    </tr>\n",
                            "    <tr>\n",
                            "      <th>15</th>\n",
                            "      <td>Iris-setosa</td>\n",
                            "      <td>Iris-setosa</td>\n",
                            "    </tr>\n",
                            "    <tr>\n",
                            "      <th>16</th>\n",
                            "      <td>Iris-virginica</td>\n",
                            "      <td>Iris-virginica</td>\n",
                            "    </tr>\n",
                            "    <tr>\n",
                            "      <th>17</th>\n",
                            "      <td>Iris-virginica</td>\n",
                            "      <td>Iris-virginica</td>\n",
                            "    </tr>\n",
                            "    <tr>\n",
                            "      <th>18</th>\n",
                            "      <td>Iris-setosa</td>\n",
                            "      <td>Iris-setosa</td>\n",
                            "    </tr>\n",
                            "    <tr>\n",
                            "      <th>19</th>\n",
                            "      <td>Iris-setosa</td>\n",
                            "      <td>Iris-setosa</td>\n",
                            "    </tr>\n",
                            "    <tr>\n",
                            "      <th>20</th>\n",
                            "      <td>Iris-virginica</td>\n",
                            "      <td>Iris-virginica</td>\n",
                            "    </tr>\n",
                            "    <tr>\n",
                            "      <th>21</th>\n",
                            "      <td>Iris-virginica</td>\n",
                            "      <td>Iris-virginica</td>\n",
                            "    </tr>\n",
                            "    <tr>\n",
                            "      <th>22</th>\n",
                            "      <td>Iris-setosa</td>\n",
                            "      <td>Iris-setosa</td>\n",
                            "    </tr>\n",
                            "    <tr>\n",
                            "      <th>23</th>\n",
                            "      <td>Iris-setosa</td>\n",
                            "      <td>Iris-setosa</td>\n",
                            "    </tr>\n",
                            "    <tr>\n",
                            "      <th>24</th>\n",
                            "      <td>Iris-virginica</td>\n",
                            "      <td>Iris-virginica</td>\n",
                            "    </tr>\n",
                            "    <tr>\n",
                            "      <th>25</th>\n",
                            "      <td>Iris-setosa</td>\n",
                            "      <td>Iris-setosa</td>\n",
                            "    </tr>\n",
                            "    <tr>\n",
                            "      <th>26</th>\n",
                            "      <td>Iris-setosa</td>\n",
                            "      <td>Iris-setosa</td>\n",
                            "    </tr>\n",
                            "    <tr>\n",
                            "      <th>27</th>\n",
                            "      <td>Iris-virginica</td>\n",
                            "      <td>Iris-virginica</td>\n",
                            "    </tr>\n",
                            "    <tr>\n",
                            "      <th>28</th>\n",
                            "      <td>Iris-setosa</td>\n",
                            "      <td>Iris-setosa</td>\n",
                            "    </tr>\n",
                            "    <tr>\n",
                            "      <th>29</th>\n",
                            "      <td>Iris-virginica</td>\n",
                            "      <td>Iris-virginica</td>\n",
                            "    </tr>\n",
                            "  </tbody>\n",
                            "</table>\n",
                            "</div>"
                        ],
                        "text/plain": [
                            "       predictions          values\n",
                            "0   Iris-virginica  Iris-virginica\n",
                            "1   Iris-virginica  Iris-virginica\n",
                            "2   Iris-virginica  Iris-virginica\n",
                            "3      Iris-setosa     Iris-setosa\n",
                            "4      Iris-setosa     Iris-setosa\n",
                            "5      Iris-setosa     Iris-setosa\n",
                            "6      Iris-setosa     Iris-setosa\n",
                            "7   Iris-virginica  Iris-virginica\n",
                            "8      Iris-setosa     Iris-setosa\n",
                            "9      Iris-setosa     Iris-setosa\n",
                            "10     Iris-setosa     Iris-setosa\n",
                            "11     Iris-setosa     Iris-setosa\n",
                            "12  Iris-virginica  Iris-virginica\n",
                            "13     Iris-setosa     Iris-setosa\n",
                            "14  Iris-virginica  Iris-virginica\n",
                            "15     Iris-setosa     Iris-setosa\n",
                            "16  Iris-virginica  Iris-virginica\n",
                            "17  Iris-virginica  Iris-virginica\n",
                            "18     Iris-setosa     Iris-setosa\n",
                            "19     Iris-setosa     Iris-setosa\n",
                            "20  Iris-virginica  Iris-virginica\n",
                            "21  Iris-virginica  Iris-virginica\n",
                            "22     Iris-setosa     Iris-setosa\n",
                            "23     Iris-setosa     Iris-setosa\n",
                            "24  Iris-virginica  Iris-virginica\n",
                            "25     Iris-setosa     Iris-setosa\n",
                            "26     Iris-setosa     Iris-setosa\n",
                            "27  Iris-virginica  Iris-virginica\n",
                            "28     Iris-setosa     Iris-setosa\n",
                            "29  Iris-virginica  Iris-virginica"
                        ]
                    },
                    "execution_count": 14,
                    "metadata": {},
                    "output_type": "execute_result"
                }
            ],
            "source": [
                "y_pred = predict(X_train, y_train, X_val, pred_method=\"hard\", k=3)\n",
                "pd.DataFrame({'predictions': y_pred, 'values': y_val})"
            ]
        },
        {
            "cell_type": "markdown",
            "metadata": {},
            "source": [
                "## Evaluate\n",
                "We try to evaluate how our model is performing, and by this line of code, we can see the accuracy of how our model fits to the validation dataset, and it seems that this model fits really well to this dataset. Alternatively, other metrics (such as precision, recall, and f1 score) can be used to evaluate the performance.\n"
            ]
        },
        {
            "cell_type": "code",
            "execution_count": 15,
            "metadata": {},
            "outputs": [
                {
                    "name": "stdout",
                    "output_type": "stream",
                    "text": [
                        "The training score is: 1.0\n"
                    ]
                }
            ],
            "source": [
                "y_pred_train = predict(X_train, y_train, X_train, pred_method=\"hard\", k=3)\n",
                "acc_train = evaluate(y_train, y_pred_train, metric='accuracy')\n",
                "print(\"The training score is:\", acc_train)"
            ]
        },
        {
            "cell_type": "code",
            "execution_count": 16,
            "metadata": {},
            "outputs": [
                {
                    "name": "stdout",
                    "output_type": "stream",
                    "text": [
                        "The validation score is: 1.0\n"
                    ]
                }
            ],
            "source": [
                "acc_valid = evaluate(y_val, y_pred, metric='accuracy')\n",
                "print(\"The validation score is:\", acc_valid)"
            ]
        },
        {
            "cell_type": "markdown",
            "metadata": {},
            "source": [
                "## Reference"
            ]
        },
        {
            "cell_type": "markdown",
            "metadata": {},
            "source": [
                "Fisher,R. A.. (1988). Iris. UCI Machine Learning Repository. https://doi.org/10.24432/C56C76."
            ]
        }
    ],
    "metadata": {
        "kernelspec": {
            "display_name": "Python 3",
            "language": "python",
            "name": "python3"
        },
        "language_info": {
            "codemirror_mode": {
                "name": "ipython",
                "version": 3
            },
            "file_extension": ".py",
            "mimetype": "text/x-python",
            "name": "python",
            "nbconvert_exporter": "python",
            "pygments_lexer": "ipython3",
            "version": "3.9.18"
        }
    },
    "nbformat": 4,
    "nbformat_minor": 4
}

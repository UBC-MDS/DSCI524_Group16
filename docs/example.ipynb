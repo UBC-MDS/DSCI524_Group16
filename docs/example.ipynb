{
    "cells": [
        {
            "cell_type": "markdown",
            "metadata": {},
            "source": [
                "# Example usage\n",
                "\n",
                "To use `pkg_pyknnclassifier` in a project:"
            ]
        },
        {
            "cell_type": "code",
            "execution_count": 1,
            "metadata": {},
            "outputs": [
                {
                    "name": "stdout",
                    "output_type": "stream",
                    "text": [
                        "0.1.0\n"
                    ]
                }
            ],
            "source": [
                "import pkg_pyknnclassifier\n",
                "\n",
                "print(pkg_pyknnclassifier.__version__)\n",
                "\n",
                "from pkg_pyknnclassifier.data_loading import data_loading\n",
                "from pkg_pyknnclassifier.scaling import scaling\n",
                "from pkg_pyknnclassifier.predict import predict\n",
                "from pkg_pyknnclassifier.evaluate import evaluate"
            ]
        },
        {
            "cell_type": "markdown",
            "metadata": {},
            "source": [
                "## Narrative\n",
                "\n",
                "\n",
                "We will now conduct an initial data wrangling to make our data ready for classification. Note our package was designed to only accept numerical features, and the binary target variable. If your data involve some categorical features, you should apply some transformation so that the features can be applied in our package.\n"
            ]
        },
        {
            "cell_type": "markdown",
            "metadata": {},
            "source": [
                "## Data-Loading\n",
                "\n",
                "For better interpretation, we used Iris dataset, which comprises 2 distinct categories (Iris Setosa and Iris Versicolor), each with 50 samples, along with their corresponding features:\n",
                "\"SepalLengthCm\": length of the sepal in cm\n",
                "\"SepalWidthCm\": width of the sepal in cm\n",
                "\"PetalLengthCm\": length of the petal in cm\n",
                "\"PetalWidthCm\" width of the petal in cm\n",
                "\n",
                "The data showcases various species of the iris flower, serving as a prime example to demonstrate and evaluate the performance of our tailored k-Nearest Neighbors (kNN) model.\n",
                "\n",
                "We load the dataset using the data_loading() function, importing the 'Iris.csv' file and specifying the target column upon which the categorization is based.\n",
                "\n",
                "## Preprocessing\n",
                "We have excluded the \"id\" column, recognizing it as a unique identifier that could lead to overfitting if included. Since it does not offer any meaningful predictive value, it is appropriately removed from the feature set for our analysis.\n",
                "\n"
            ]
        },
        {
            "cell_type": "code",
            "execution_count": 12,
            "metadata": {},
            "outputs": [
                {
                    "name": "stdout",
                    "output_type": "stream",
                    "text": [
                        "{'Iris-setosa', 'Iris-virginica'}\n"
                    ]
                }
            ],
            "source": [
                "path_to_training = \"../data/iris_train.csv\"\n",
                "path_to_validation = \"../data/iris_valid.csv\"\n",
                "target_column = \"Species\"\n",
                "X_train, y_train = data_loading(path_to_training, target_column)\n",
                "# X_train = X_train.drop(columns=\"Id\")\n",
                "# index_mask = y_train != 'Iris-virginica'\n",
                "# X_train = X_train[index_mask]\n",
                "# y_train = y_train[index_mask]\n",
                "X_val, y_val = data_loading(path_to_validation, target_column)\n",
                "print(set(list(y_train)))"
            ]
        },
        {
            "cell_type": "markdown",
            "metadata": {},
            "source": [
                "## Scaling\n",
                "Before building our KNN model, we scale our features so no features dominate the distance calculations. The model can learn from all the features equally and leads to a better performing model.\n"
            ]
        },
        {
            "cell_type": "code",
            "execution_count": 13,
            "metadata": {},
            "outputs": [],
            "source": [
                "train_X_scaled = scaling(X_train, impute_strategy=\"mean\", scale_method=\"MinMaxScaler\")"
            ]
        },
        {
            "cell_type": "code",
            "execution_count": 15,
            "metadata": {},
            "outputs": [],
            "source": [
                "y_pred = predict(X_train, y_train, X_val, pred_method=\"hard\", k=3)"
            ]
        },
        {
            "cell_type": "markdown",
            "metadata": {},
            "source": [
                "## Evaluate\n",
                "We try to evaluate how our model is performing, and by this line of code, we can see the accuracy of how our model fits to the validation dataset, and it seems that this model fits really well to this dataset.\n"
            ]
        },
        {
            "cell_type": "code",
            "execution_count": 17,
            "metadata": {},
            "outputs": [
                {
                    "name": "stdout",
                    "output_type": "stream",
                    "text": [
                        "1.0\n"
                    ]
                }
            ],
            "source": [
                "acc = evaluate(y_val, y_pred, metric='accuracy')\n",
                "print(acc)"
            ]
        },
        {
            "cell_type": "code",
            "execution_count": 18,
            "metadata": {},
            "outputs": [],
            "source": [
                "y_pred_train = predict(X_train, y_train, X_train, pred_method=\"hard\", k=3)\n",
                "acc_train = evaluate(y_train, y_pred_train, metric='accuracy')"
            ]
        },
        {
            "cell_type": "code",
            "execution_count": null,
            "metadata": {},
            "outputs": [],
            "source": []
        }
    ],
    "metadata": {
        "kernelspec": {
            "display_name": "Python 3",
            "language": "python",
            "name": "python3"
        },
        "language_info": {
            "codemirror_mode": {
                "name": "ipython",
                "version": 3
            },
            "file_extension": ".py",
            "mimetype": "text/x-python",
            "name": "python",
            "nbconvert_exporter": "python",
            "pygments_lexer": "ipython3",
            "version": "3.9.18"
        }
    },
    "nbformat": 4,
    "nbformat_minor": 4
}
